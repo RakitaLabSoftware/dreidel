{
 "cells": [
  {
   "cell_type": "code",
   "execution_count": 18,
   "metadata": {},
   "outputs": [
    {
     "name": "stdout",
     "output_type": "stream",
     "text": [
      "preprocessors:\n",
      "- name: turngray\n",
      "keypoint_detector:\n",
      "  name: ORBDetector\n",
      "matcher:\n",
      "  name: FlannMatcher\n",
      "  low_ratio: 1.2\n",
      "  min_matches: 10000\n",
      "\n"
     ]
    }
   ],
   "source": [
    "from dataclasses import field\n",
    "from pydantic.dataclasses import dataclass\n",
    "from omegaconf import OmegaConf\n",
    "\n",
    "@dataclass\n",
    "class PreprocessorCFG:\n",
    "    name:str\n",
    "\n",
    "@dataclass    \n",
    "class MatcherCFG:\n",
    "    name:str = \"FlannMatcher\"\n",
    "    low_ratio:float = 1.2\n",
    "    min_matches:int = 10000\n",
    "\n",
    "@dataclass        \n",
    "class KeypointDetectorCFG:\n",
    "    name:str = \"ORBDetector\"\n",
    "\n",
    "@dataclass\n",
    "class CFG:\n",
    "    preprocessors:list[PreprocessorCFG] = field(default_factory=lambda: [PreprocessorCFG(name='turngray')])\n",
    "    keypoint_detector:KeypointDetectorCFG = field(default_factory =KeypointDetectorCFG)\n",
    "    matcher:MatcherCFG = field(default_factory=MatcherCFG)\n",
    "\n",
    "cfg: CFG = OmegaConf.structured(CFG())\n",
    "print(OmegaConf.to_yaml(cfg))"
   ]
  },
  {
   "cell_type": "code",
   "execution_count": 17,
   "metadata": {},
   "outputs": [
    {
     "ename": "ImportError",
     "evalue": "attempted relative import with no known parent package",
     "output_type": "error",
     "traceback": [
      "\u001b[0;31m---------------------------------------------------------------------------\u001b[0m",
      "\u001b[0;31mImportError\u001b[0m                               Traceback (most recent call last)",
      "Cell \u001b[0;32mIn[17], line 1\u001b[0m\n\u001b[0;32m----> 1\u001b[0m \u001b[39mfrom\u001b[39;00m \u001b[39m.\u001b[39;00m\u001b[39m.\u001b[39;00m\u001b[39mdreidel\u001b[39;00m\u001b[39m.\u001b[39;00m\u001b[39mmodeling\u001b[39;00m\u001b[39m.\u001b[39;00m\u001b[39maligner\u001b[39;00m\u001b[39m.\u001b[39;00m\u001b[39mstep\u001b[39;00m \u001b[39mimport\u001b[39;00m StepAligner\n\u001b[1;32m      2\u001b[0m aligner \u001b[39m=\u001b[39m StepAligner(cfg)\n",
      "\u001b[0;31mImportError\u001b[0m: attempted relative import with no known parent package"
     ]
    }
   ],
   "source": [
    "from ..dreidel.modeling.aligner.step import StepAligner\n",
    "aligner = StepAligner(cfg)"
   ]
  },
  {
   "cell_type": "code",
   "execution_count": 16,
   "metadata": {},
   "outputs": [
    {
     "ename": "NameError",
     "evalue": "name 'aligner' is not defined",
     "output_type": "error",
     "traceback": [
      "\u001b[0;31m---------------------------------------------------------------------------\u001b[0m",
      "\u001b[0;31mNameError\u001b[0m                                 Traceback (most recent call last)",
      "Cell \u001b[0;32mIn[16], line 1\u001b[0m\n\u001b[0;32m----> 1\u001b[0m \u001b[39mfor\u001b[39;00m preprocessor \u001b[39min\u001b[39;00m aligner\u001b[39m.\u001b[39mpreprocessors():\n\u001b[1;32m      2\u001b[0m     preprocessor\u001b[39m.\u001b[39mrun()\n",
      "\u001b[0;31mNameError\u001b[0m: name 'aligner' is not defined"
     ]
    }
   ],
   "source": [
    "for preprocessor in aligner.preprocessors():\n",
    "    preprocessor.run()"
   ]
  },
  {
   "cell_type": "code",
   "execution_count": null,
   "metadata": {},
   "outputs": [],
   "source": [
    "kps, dsc = aligner.keypoint_detector.run()"
   ]
  },
  {
   "cell_type": "code",
   "execution_count": null,
   "metadata": {},
   "outputs": [],
   "source": [
    "transformed_img = aligner.transformation.run()"
   ]
  }
 ],
 "metadata": {
  "kernelspec": {
   "display_name": "dreidel_venv",
   "language": "python",
   "name": "python3"
  },
  "language_info": {
   "codemirror_mode": {
    "name": "ipython",
    "version": 3
   },
   "file_extension": ".py",
   "mimetype": "text/x-python",
   "name": "python",
   "nbconvert_exporter": "python",
   "pygments_lexer": "ipython3",
   "version": "3.11.0"
  },
  "orig_nbformat": 4,
  "vscode": {
   "interpreter": {
    "hash": "e6868be93c386cd7ebcd950f4012024c37dc8fd42084e39de13209f4b8a7feb6"
   }
  }
 },
 "nbformat": 4,
 "nbformat_minor": 2
}
