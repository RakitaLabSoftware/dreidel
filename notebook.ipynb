{
 "cells": [
  {
   "cell_type": "code",
   "execution_count": 4,
   "metadata": {},
   "outputs": [],
   "source": [
    "import os\n",
    "\n",
    "from pydantic import BaseModel\n",
    "\n",
    "from core.models.downloaders.gdown_downloader import GDownDowloader\n",
    "from core.models.feature_extractors import functional as F\n",
    "from core.models.loaders.local_loader import LocalFileLoader\n",
    "from core.models.schemas.processed import Features"
   ]
  },
  {
   "cell_type": "code",
   "execution_count": 1,
   "metadata": {},
   "outputs": [
    {
     "name": "stdout",
     "output_type": "stream",
     "text": [
      "data\n"
     ]
    }
   ],
   "source": [
    "from dataclasses import dataclass\n",
    "from pathlib import Path\n",
    "@dataclass\n",
    "class Config:\n",
    "    root:Path = Path.cwd()\n",
    "    data_root:Path = root / Path('./data')\n",
    "cfg = Config()"
   ]
  },
  {
   "cell_type": "code",
   "execution_count": null,
   "metadata": {},
   "outputs": [],
   "source": [
    "downloader = GDownDowloader()\n",
    "downloader.download(url='url', output=Config.data_root)"
   ]
  },
  {
   "cell_type": "code",
   "execution_count": null,
   "metadata": {},
   "outputs": [],
   "source": [
    "loader = LocalFileLoader(root=Config.data_root, schema=Features)\n",
    "loader.parse()"
   ]
  }
 ],
 "metadata": {
  "kernelspec": {
   "display_name": "dreidel_venv",
   "language": "python",
   "name": "python3"
  },
  "language_info": {
   "codemirror_mode": {
    "name": "ipython",
    "version": 3
   },
   "file_extension": ".py",
   "mimetype": "text/x-python",
   "name": "python",
   "nbconvert_exporter": "python",
   "pygments_lexer": "ipython3",
   "version": "3.11.0 | packaged by conda-forge | (main, Oct 25 2022, 06:24:40) [GCC 10.4.0]"
  },
  "orig_nbformat": 4,
  "vscode": {
   "interpreter": {
    "hash": "5a9bb154dd0646470a204d95d49938353531ad00be2eaef56ee9a64705d61442"
   }
  }
 },
 "nbformat": 4,
 "nbformat_minor": 2
}
